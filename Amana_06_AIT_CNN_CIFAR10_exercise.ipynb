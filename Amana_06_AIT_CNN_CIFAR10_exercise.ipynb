{
  "nbformat": 4,
  "nbformat_minor": 0,
  "metadata": {
    "anaconda-cloud": {},
    "kernelspec": {
      "display_name": "Python 3",
      "language": "python",
      "name": "python3"
    },
    "language_info": {
      "codemirror_mode": {
        "name": "ipython",
        "version": 3
      },
      "file_extension": ".py",
      "mimetype": "text/x-python",
      "name": "python",
      "nbconvert_exporter": "python",
      "pygments_lexer": "ipython3",
      "version": "3.6.6"
    },
    "colab": {
      "provenance": [],
      "include_colab_link": true
    },
    "accelerator": "GPU"
  },
  "cells": [
    {
      "cell_type": "markdown",
      "metadata": {
        "id": "view-in-github",
        "colab_type": "text"
      },
      "source": [
        "<a href=\"https://colab.research.google.com/github/Amana28/Deep-Learning/blob/master/Amana_06_AIT_CNN_CIFAR10_exercise.ipynb\" target=\"_parent\"><img src=\"https://colab.research.google.com/assets/colab-badge.svg\" alt=\"Open In Colab\"/></a>"
      ]
    },
    {
      "cell_type": "markdown",
      "metadata": {
        "id": "cW-EyI5Lxpqi"
      },
      "source": [
        "# Copyright\n",
        "\n",
        "<PRE>\n",
        "Copyright (c) 2023 Bálint Gyires-Tóth - All Rights Reserved\n",
        "You may use and modify this code for research and development purpuses.\n",
        "Using this code for educational purposes (self-paced or instructor led) without the permission of the author is prohibited.\n",
        "</PRE>"
      ]
    },
    {
      "cell_type": "markdown",
      "source": [
        "# Convolutional Neural Network exercise\n",
        "\n",
        "In this notebook, you will build a convolutional neural network, which offers superior results over the previous MLP solution. Additionally, you will perform a more detailed evaluation.  "
      ],
      "metadata": {
        "id": "3EX4cCa4WKJu"
      }
    },
    {
      "cell_type": "code",
      "source": [
        "# imports \n",
        "from tensorflow.keras.datasets import cifar10\n",
        "from tensorflow.keras.utils import to_categorical\n",
        "import numpy as np\n",
        "import matplotlib.pyplot as plt\n",
        "from tensorflow.keras.models import Sequential\n",
        "from tensorflow.keras.layers import Dense, Conv2D, MaxPool2D, Flatten, Dropout, BatchNormalization\n",
        "from tensorflow.keras.initializers import HeNormal\n",
        "from tensorflow.keras.callbacks import EarlyStopping"
      ],
      "metadata": {
        "id": "GdCMhy4HA2qd"
      },
      "execution_count": 1,
      "outputs": []
    },
    {
      "cell_type": "markdown",
      "source": [
        "# 1. Data\n",
        "The dataset we will use is the well-known CIFAR10 (Canadian Institute For Advanced Research). Explore the details on the Keras website first: https://keras.io/api/datasets/cifar10/\n",
        "\n",
        "There isn't much difference between the data preprocessing part and the one we did before. The only difference is that we don't have to reshape images into vectors, but we are working with a 4 dimensional data structure, where the dimensions are: batch, X, Y, and color channels. \n",
        "\n",
        "In the event that anything is not clear regarding the data preparation part, please check the previous CIFAR10 notebook."
      ],
      "metadata": {
        "id": "yY9fztIeWIKt"
      }
    },
    {
      "cell_type": "code",
      "source": [
        "(X_train, Y_train), (X_test, Y_test) = cifar10.load_data()"
      ],
      "metadata": {
        "id": "bez7q0eiWQCK",
        "colab": {
          "base_uri": "https://localhost:8080/"
        },
        "outputId": "ed428b01-9720-432a-c0f6-31dc6ac014af"
      },
      "execution_count": 2,
      "outputs": [
        {
          "output_type": "stream",
          "name": "stdout",
          "text": [
            "Downloading data from https://www.cs.toronto.edu/~kriz/cifar-10-python.tar.gz\n",
            "170498071/170498071 [==============================] - 3s 0us/step\n"
          ]
        }
      ]
    },
    {
      "cell_type": "code",
      "source": [
        "# it is in int8 format, the neural network requires float32\n",
        "X_train = X_train.astype(\"float32\")\n",
        "X_test = X_test.astype(\"float32\")"
      ],
      "metadata": {
        "id": "vukOcBM0XzSj"
      },
      "execution_count": 3,
      "outputs": []
    },
    {
      "cell_type": "code",
      "source": [
        "train_ratio  = 0.8\n",
        "train_length = X_train.shape[0]\n",
        "train_split  = int(train_ratio*train_length)\n",
        "X_valid, Y_valid = X_train[train_split:], Y_train[train_split:]\n",
        "X_train, Y_train = X_train[:train_split], Y_train[:train_split]"
      ],
      "metadata": {
        "id": "mRwuWxxIxLgN"
      },
      "execution_count": 4,
      "outputs": []
    },
    {
      "cell_type": "code",
      "source": [
        "mean = X_train.mean(axis=0)\n",
        "std  = X_train.std(axis=0)\n",
        "\n",
        "X_train = (X_train-mean)/std\n",
        "X_valid = (X_valid-mean)/std\n",
        "X_test  = (X_test-mean)/std"
      ],
      "metadata": {
        "id": "2ESLP1EIyB2J"
      },
      "execution_count": 5,
      "outputs": []
    },
    {
      "cell_type": "code",
      "source": [
        "nb_classes = len(np.unique(Y_train))\n",
        "Y_train = to_categorical(Y_train, nb_classes)\n",
        "Y_valid = to_categorical(Y_valid, nb_classes)\n",
        "Y_test  = to_categorical(Y_test, nb_classes)"
      ],
      "metadata": {
        "id": "xwZ4OJ6I8lba"
      },
      "execution_count": 6,
      "outputs": []
    },
    {
      "cell_type": "code",
      "source": [
        "print(\"Shapes of the training, validation and test input data:\", X_train.shape, X_valid.shape, X_test.shape)\n",
        "print(\"Shapes of the training, validation and test output data:\", Y_train.shape, Y_valid.shape, Y_test.shape)\n",
        "print(\"Mean values of the training, validation and test input data:\", X_train.mean(), X_valid.mean(), X_test.mean())\n",
        "print(\"Standard deviation of the training, validation and test input data:\", X_train.std(), X_valid.std(), X_test.std())"
      ],
      "metadata": {
        "id": "O_jdJVcvX0vi",
        "colab": {
          "base_uri": "https://localhost:8080/"
        },
        "outputId": "92105f6e-9cdf-41ff-cf96-9d797c380f51"
      },
      "execution_count": 7,
      "outputs": [
        {
          "output_type": "stream",
          "name": "stdout",
          "text": [
            "Shapes of the training, validation and test input data: (40000, 32, 32, 3) (10000, 32, 32, 3) (10000, 32, 32, 3)\n",
            "Shapes of the training, validation and test output data: (40000, 10) (10000, 10) (10000, 10)\n",
            "Mean values of the training, validation and test input data: 2.2788842e-09 0.0023437198 0.013331206\n",
            "Standard deviation of the training, validation and test input data: 1.0000023 0.9965626 0.99783075\n"
          ]
        }
      ]
    },
    {
      "cell_type": "markdown",
      "metadata": {
        "id": "cJ14oyZExpqj"
      },
      "source": [
        "# 2. Exercise: training"
      ]
    },
    {
      "cell_type": "markdown",
      "source": [
        "Create and train a convolutional neural network with the following requirements:\n",
        "* apply early stopping with patience=5 and monitor the validation accuracy, don't forget to load back the best weights after early stopping\n",
        "* the number of trainable parameters is lower than 200.000\n",
        "* the validation accuracy must be higher than 72%\n",
        "\n",
        "Hints:\n",
        "* you can always inspect the number of trainable parameters per layer with model.summary()\n",
        "* usually the most trainable parameters are between the last convolutional layer and the next dense layer -- so you should have a reasonable output size at the last convolutional layer\n",
        "* regularization helps (e.g. DropOut and/or BatchNormalization)\n",
        "* use the right activation function at the output layer and the corresponding loss function\n",
        "* for the chosen activation functions, please use the appropriate initialization method\n",
        "* you can match the dimension of the last conv/pooling layer to the next dense layer with e.g. Flatten()\n",
        "* ADAM optimizer is a reasonable choice \n",
        "* don't forget to turn on GPU support in Colab, otherwise, it would be quite slow to train the networks\n",
        "\n"
      ],
      "metadata": {
        "id": "j1tGVPdD-pp3"
      }
    },
    {
      "cell_type": "code",
      "source": [
        "es = EarlyStopping(patience=5, monitor='val_accuracy', restore_best_weights=True)# early stopping"
      ],
      "metadata": {
        "id": "5dBQxJHIHrbd"
      },
      "execution_count": 25,
      "outputs": []
    },
    {
      "cell_type": "code",
      "source": [
        "# model definition\n",
        "model = Sequential()\n",
        "\n",
        "model.add(Conv2D(filters=16, kernel_size=(3, 3), activation='relu', padding='same', input_shape=X_train.shape[1:], kernel_initializer='he_normal'))\n",
        "model.add(BatchNormalization())\n",
        "model.add(Conv2D(filters=16, kernel_size=(3, 3), activation='relu', padding='same', kernel_initializer='he_normal'))\n",
        "model.add(MaxPool2D(pool_size=(2, 2)))\n",
        "model.add(Dropout(0.25))\n",
        "\n",
        "model.add(Conv2D(filters=16, kernel_size=(3, 3), activation='relu', padding='same', kernel_initializer='he_normal'))\n",
        "model.add(BatchNormalization())\n",
        "model.add(Conv2D(filters=16, kernel_size=(3, 3), activation='relu', padding='same', kernel_initializer='he_normal'))\n",
        "model.add(MaxPool2D(pool_size=(2, 2)))\n",
        "model.add(Dropout(0.25))\n",
        "\n",
        "model.add(Flatten())\n",
        "\n",
        "model.add(Dense(units=128, activation='relu', kernel_initializer='he_normal'))\n",
        "model.add(BatchNormalization())\n",
        "model.add(Dropout(0.5))\n",
        "\n",
        "model.add(Dense(units=nb_classes, activation='softmax'))\n",
        "\n",
        "\n",
        "# loss function and optimizer\n",
        "model.compile(loss='categorical_crossentropy', optimizer='adam', metrics=['accuracy'])"
      ],
      "metadata": {
        "id": "PuxHOqLt-3Nd"
      },
      "execution_count": 39,
      "outputs": []
    },
    {
      "cell_type": "code",
      "source": [
        "model.summary()"
      ],
      "metadata": {
        "id": "5eomQw8uE9Ix",
        "colab": {
          "base_uri": "https://localhost:8080/"
        },
        "outputId": "fc64757f-b474-4278-a43b-dc3234b2a06b"
      },
      "execution_count": 40,
      "outputs": [
        {
          "output_type": "stream",
          "name": "stdout",
          "text": [
            "Model: \"sequential_10\"\n",
            "_________________________________________________________________\n",
            " Layer (type)                Output Shape              Param #   \n",
            "=================================================================\n",
            " conv2d_46 (Conv2D)          (None, 32, 32, 16)        448       \n",
            "                                                                 \n",
            " batch_normalization_40 (Bat  (None, 32, 32, 16)       64        \n",
            " chNormalization)                                                \n",
            "                                                                 \n",
            " conv2d_47 (Conv2D)          (None, 32, 32, 16)        2320      \n",
            "                                                                 \n",
            " max_pooling2d_30 (MaxPoolin  (None, 16, 16, 16)       0         \n",
            " g2D)                                                            \n",
            "                                                                 \n",
            " dropout_40 (Dropout)        (None, 16, 16, 16)        0         \n",
            "                                                                 \n",
            " conv2d_48 (Conv2D)          (None, 16, 16, 16)        2320      \n",
            "                                                                 \n",
            " batch_normalization_41 (Bat  (None, 16, 16, 16)       64        \n",
            " chNormalization)                                                \n",
            "                                                                 \n",
            " conv2d_49 (Conv2D)          (None, 16, 16, 16)        2320      \n",
            "                                                                 \n",
            " max_pooling2d_31 (MaxPoolin  (None, 8, 8, 16)         0         \n",
            " g2D)                                                            \n",
            "                                                                 \n",
            " dropout_41 (Dropout)        (None, 8, 8, 16)          0         \n",
            "                                                                 \n",
            " flatten_10 (Flatten)        (None, 1024)              0         \n",
            "                                                                 \n",
            " dense_20 (Dense)            (None, 128)               131200    \n",
            "                                                                 \n",
            " batch_normalization_42 (Bat  (None, 128)              512       \n",
            " chNormalization)                                                \n",
            "                                                                 \n",
            " dropout_42 (Dropout)        (None, 128)               0         \n",
            "                                                                 \n",
            " dense_21 (Dense)            (None, 10)                1290      \n",
            "                                                                 \n",
            "=================================================================\n",
            "Total params: 140,538\n",
            "Trainable params: 140,218\n",
            "Non-trainable params: 320\n",
            "_________________________________________________________________\n"
          ]
        }
      ]
    },
    {
      "cell_type": "markdown",
      "source": [
        "Please, check the number of trainable paramers:"
      ],
      "metadata": {
        "id": "8tIbIIeTEI41"
      }
    },
    {
      "cell_type": "code",
      "source": [
        "print(\"#trainable parameters:\",model.count_params())"
      ],
      "metadata": {
        "id": "xdBAG7EJETlX",
        "colab": {
          "base_uri": "https://localhost:8080/"
        },
        "outputId": "84c73d21-a08e-4798-b29e-03f431861a1a"
      },
      "execution_count": 45,
      "outputs": [
        {
          "output_type": "stream",
          "name": "stdout",
          "text": [
            "#trainable parameters: 140538\n"
          ]
        }
      ]
    },
    {
      "cell_type": "code",
      "source": [
        "# training\n",
        "network_history = model.fit(X_train, Y_train, epochs=1000, batch_size=128, validation_data=(X_valid, Y_valid), callbacks=[es])"
      ],
      "metadata": {
        "id": "u8tFNCNVHyt9",
        "colab": {
          "base_uri": "https://localhost:8080/"
        },
        "outputId": "7fa539e3-60d8-4e23-b88a-ab4a4bc380c4"
      },
      "execution_count": 42,
      "outputs": [
        {
          "output_type": "stream",
          "name": "stdout",
          "text": [
            "Epoch 1/1000\n",
            "313/313 [==============================] - 8s 11ms/step - loss: 1.9836 - accuracy: 0.3285 - val_loss: 1.5388 - val_accuracy: 0.4468\n",
            "Epoch 2/1000\n",
            "313/313 [==============================] - 3s 9ms/step - loss: 1.5040 - accuracy: 0.4551 - val_loss: 1.3223 - val_accuracy: 0.5294\n",
            "Epoch 3/1000\n",
            "313/313 [==============================] - 3s 11ms/step - loss: 1.3633 - accuracy: 0.5102 - val_loss: 1.2586 - val_accuracy: 0.5539\n",
            "Epoch 4/1000\n",
            "313/313 [==============================] - 3s 10ms/step - loss: 1.2655 - accuracy: 0.5474 - val_loss: 1.1319 - val_accuracy: 0.5942\n",
            "Epoch 5/1000\n",
            "313/313 [==============================] - 3s 9ms/step - loss: 1.1896 - accuracy: 0.5774 - val_loss: 1.0338 - val_accuracy: 0.6378\n",
            "Epoch 6/1000\n",
            "313/313 [==============================] - 3s 9ms/step - loss: 1.1257 - accuracy: 0.6030 - val_loss: 1.0087 - val_accuracy: 0.6419\n",
            "Epoch 7/1000\n",
            "313/313 [==============================] - 3s 10ms/step - loss: 1.0735 - accuracy: 0.6234 - val_loss: 1.0236 - val_accuracy: 0.6328\n",
            "Epoch 8/1000\n",
            "313/313 [==============================] - 3s 10ms/step - loss: 1.0364 - accuracy: 0.6337 - val_loss: 0.9002 - val_accuracy: 0.6841\n",
            "Epoch 9/1000\n",
            "313/313 [==============================] - 3s 9ms/step - loss: 1.0064 - accuracy: 0.6432 - val_loss: 0.9177 - val_accuracy: 0.6752\n",
            "Epoch 10/1000\n",
            "313/313 [==============================] - 3s 9ms/step - loss: 0.9758 - accuracy: 0.6575 - val_loss: 0.8490 - val_accuracy: 0.7025\n",
            "Epoch 11/1000\n",
            "313/313 [==============================] - 3s 10ms/step - loss: 0.9626 - accuracy: 0.6626 - val_loss: 0.8464 - val_accuracy: 0.7054\n",
            "Epoch 12/1000\n",
            "313/313 [==============================] - 3s 10ms/step - loss: 0.9392 - accuracy: 0.6707 - val_loss: 0.8471 - val_accuracy: 0.7007\n",
            "Epoch 13/1000\n",
            "313/313 [==============================] - 3s 9ms/step - loss: 0.9192 - accuracy: 0.6758 - val_loss: 0.8151 - val_accuracy: 0.7127\n",
            "Epoch 14/1000\n",
            "313/313 [==============================] - 3s 9ms/step - loss: 0.9072 - accuracy: 0.6806 - val_loss: 0.8199 - val_accuracy: 0.7075\n",
            "Epoch 15/1000\n",
            "313/313 [==============================] - 3s 11ms/step - loss: 0.9029 - accuracy: 0.6872 - val_loss: 0.8059 - val_accuracy: 0.7147\n",
            "Epoch 16/1000\n",
            "313/313 [==============================] - 3s 10ms/step - loss: 0.8866 - accuracy: 0.6879 - val_loss: 0.8073 - val_accuracy: 0.7148\n",
            "Epoch 17/1000\n",
            "313/313 [==============================] - 3s 9ms/step - loss: 0.8743 - accuracy: 0.6944 - val_loss: 0.7977 - val_accuracy: 0.7179\n",
            "Epoch 18/1000\n",
            "313/313 [==============================] - 3s 9ms/step - loss: 0.8645 - accuracy: 0.6950 - val_loss: 0.7816 - val_accuracy: 0.7279\n",
            "Epoch 19/1000\n",
            "313/313 [==============================] - 4s 11ms/step - loss: 0.8525 - accuracy: 0.7020 - val_loss: 0.7834 - val_accuracy: 0.7239\n",
            "Epoch 20/1000\n",
            "313/313 [==============================] - 3s 9ms/step - loss: 0.8473 - accuracy: 0.7030 - val_loss: 0.7533 - val_accuracy: 0.7334\n",
            "Epoch 21/1000\n",
            "313/313 [==============================] - 3s 10ms/step - loss: 0.8398 - accuracy: 0.7053 - val_loss: 0.7562 - val_accuracy: 0.7361\n",
            "Epoch 22/1000\n",
            "313/313 [==============================] - 3s 9ms/step - loss: 0.8302 - accuracy: 0.7070 - val_loss: 0.7625 - val_accuracy: 0.7318\n",
            "Epoch 23/1000\n",
            "313/313 [==============================] - 3s 11ms/step - loss: 0.8289 - accuracy: 0.7077 - val_loss: 0.7502 - val_accuracy: 0.7340\n",
            "Epoch 24/1000\n",
            "313/313 [==============================] - 3s 10ms/step - loss: 0.8201 - accuracy: 0.7139 - val_loss: 0.7973 - val_accuracy: 0.7168\n",
            "Epoch 25/1000\n",
            "313/313 [==============================] - 3s 9ms/step - loss: 0.8170 - accuracy: 0.7139 - val_loss: 0.7610 - val_accuracy: 0.7305\n",
            "Epoch 26/1000\n",
            "313/313 [==============================] - 3s 9ms/step - loss: 0.8099 - accuracy: 0.7157 - val_loss: 0.7656 - val_accuracy: 0.7327\n"
          ]
        }
      ]
    },
    {
      "cell_type": "markdown",
      "source": [
        "# 3. Exercise: evaluation on test data\n",
        "You will evaluate the classification of the test data using the common metrics and the confusion matrix in this section. \n",
        "\n",
        "\n",
        "As a first stes, let's run the predictions and convert the predicted softmax outputs to dense labels. The one-hot encoded labels are also converted back to dense labels, as they are required for the evaluation functions."
      ],
      "metadata": {
        "id": "2FtKp-a2-A9m"
      }
    },
    {
      "cell_type": "code",
      "source": [
        "probas = model.predict(X_test)\n",
        "preds  = np.argmax(probas,axis=1)\n",
        "Y_test_dense = np.argmax(Y_test, axis=1) # get the original dense labels of the test data"
      ],
      "metadata": {
        "id": "EcWAqwlDMq3y",
        "colab": {
          "base_uri": "https://localhost:8080/"
        },
        "outputId": "65df02f0-2b85-489f-9477-3b5a052f2796"
      },
      "execution_count": 43,
      "outputs": [
        {
          "output_type": "stream",
          "name": "stdout",
          "text": [
            "313/313 [==============================] - 1s 2ms/step\n"
          ]
        }
      ]
    },
    {
      "cell_type": "markdown",
      "source": [
        "## 3.1. Exercise: Metrics\n",
        "please review the common classification metrics (accuracy, precision, recall, F1) for the complete model (not per class). \n",
        "\n",
        "Hints:\n",
        "* use macro averaging\n",
        "* you have to import the right functions from [sklearn.metrics](https://scikit-learn.org/stable/modules/model_evaluation.html)\n"
      ],
      "metadata": {
        "id": "RWJ-PH_iMs9K"
      }
    },
    {
      "cell_type": "markdown",
      "source": [],
      "metadata": {
        "id": "bLUGIYm98MWJ"
      }
    },
    {
      "cell_type": "code",
      "source": [
        "from sklearn.metrics import accuracy_score, f1_score, precision_score, recall_score"
      ],
      "metadata": {
        "id": "5sKm5zHSMZ_x"
      },
      "execution_count": 46,
      "outputs": []
    },
    {
      "cell_type": "code",
      "source": [
        "accuracy_score = accuracy_score(Y_test_dense, preds)\n",
        "precision_score = precision_score(Y_test_dense, preds, average='macro')\n",
        "recall_score = recall_score(Y_test_dense, preds, average='macro')\n",
        "f1_score = f1_score(Y_test_dense, preds, average='macro')"
      ],
      "metadata": {
        "id": "G_eB8hPt8cGq"
      },
      "execution_count": 47,
      "outputs": []
    },
    {
      "cell_type": "code",
      "source": [
        "print(\"Accuracy:\", accuracy_score)\n",
        "print(\"Precision:\", precision_score)\n",
        "print(\"Recall:\", recall_score)\n",
        "print(\"F1:\", f1_score)"
      ],
      "metadata": {
        "id": "I3_9wgDREUna",
        "colab": {
          "base_uri": "https://localhost:8080/"
        },
        "outputId": "bc47ee0f-b5cf-48a1-dc26-26b4fd6bf768"
      },
      "execution_count": 49,
      "outputs": [
        {
          "output_type": "stream",
          "name": "stdout",
          "text": [
            "Accuracy: 0.7304\n",
            "Precision: 0.7313311993403075\n",
            "Recall: 0.7304\n",
            "F1: 0.7285994433917894\n"
          ]
        }
      ]
    },
    {
      "cell_type": "markdown",
      "source": [
        "\n",
        "## 3.2. Exercise: Confusion matrix\n",
        "Calculate the confusion matrix and display the results in a heatmap (with decimal values).\n",
        "\n",
        "Hints:\n",
        "* you have to do the imports this time too, e.g. from [sklearn.metrics](https://scikit-learn.org/stable/modules/model_evaluation.html) and the [heatmap function](https://seaborn.pydata.org/generated/seaborn.heatmap.html) of [seaborn](https://seaborn.pydata.org/)\n",
        "* for displaying the decimal values, you have to turn annot=True and define fmt='d' in the heatmap function of seaborn"
      ],
      "metadata": {
        "id": "ECHguBFtGL7f"
      }
    },
    {
      "cell_type": "code",
      "source": [
        "from sklearn.metrics import confusion_matrix\n",
        "import seaborn as sns"
      ],
      "metadata": {
        "id": "SIi2VzMBO3yD"
      },
      "execution_count": 50,
      "outputs": []
    },
    {
      "cell_type": "code",
      "metadata": {
        "id": "cdqODx92Svw7",
        "colab": {
          "base_uri": "https://localhost:8080/",
          "height": 392
        },
        "outputId": "7c03875a-032e-4f7d-ea03-e703ae507dc9"
      },
      "source": [
        "conf = confusion_matrix(Y_test_dense, preds)\n",
        "plt.figure(figsize=(7,6))\n",
        "sns.heatmap(conf, annot=True, fmt='d')"
      ],
      "execution_count": 51,
      "outputs": [
        {
          "output_type": "execute_result",
          "data": {
            "text/plain": [
              "<Axes: >"
            ]
          },
          "metadata": {},
          "execution_count": 51
        },
        {
          "output_type": "display_data",
          "data": {
            "text/plain": [
              "<Figure size 504x432 with 2 Axes>"
            ],
            "image/png": "[encoded data removed]"
          },
          "metadata": {
            "needs_background": "light"
          }
        }
      ]
    }
  ]
}