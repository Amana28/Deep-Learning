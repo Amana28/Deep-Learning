{
  "nbformat": 4,
  "nbformat_minor": 0,
  "metadata": {
    "kernelspec": {
      "display_name": "Python 3",
      "language": "python",
      "name": "python3"
    },
    "language_info": {
      "codemirror_mode": {
        "name": "ipython",
        "version": 3
      },
      "file_extension": ".py",
      "mimetype": "text/x-python",
      "name": "python",
      "nbconvert_exporter": "python",
      "pygments_lexer": "ipython3",
      "version": "3.6.6"
    },
    "colab": {
      "provenance": [],
      "include_colab_link": true
    }
  },
  "cells": [
    {
      "cell_type": "markdown",
      "metadata": {
        "id": "view-in-github",
        "colab_type": "text"
      },
      "source": [
        "<a href=\"https://colab.research.google.com/github/Amana28/Deep-Learning/blob/master/Amana_AIT_09_Author_classification_assessment.ipynb\" target=\"_parent\"><img src=\"https://colab.research.google.com/assets/colab-badge.svg\" alt=\"Open In Colab\"/></a>"
      ]
    },
    {
      "cell_type": "markdown",
      "metadata": {
        "id": "_jiGtJu6u9ml"
      },
      "source": [
        "# Copyright\n",
        "\n",
        "<PRE>\n",
        "Copyright (c) 2023 Bálint Gyires-Tóth - All Rights Reserved\n",
        "You may use and modify this code for research and development purpuses.\n",
        "Use this code for educational purposes (self-paced or instructor led) without the permission of the author is prohibited.\n",
        "</PRE>"
      ]
    },
    {
      "cell_type": "markdown",
      "metadata": {
        "id": "oXyFC44jV-PP"
      },
      "source": [
        "# Author classification\n",
        "The task is to train a 1D CNN or an LSTM that is able to  classify text from two authors. The final model should be able to tell about a text with a given length (e.g. 60 characters) who wrote it. \n",
        "\n",
        "Please write the codes according to the following parts:"
      ]
    },
    {
      "cell_type": "markdown",
      "metadata": {
        "id": "jCnLoeGrHXsp"
      },
      "source": [
        "## Python module imports\n",
        "Import all Python modules that you would need during the Assignment."
      ]
    },
    {
      "cell_type": "code",
      "metadata": {
        "id": "7itbFGt3HXVT"
      },
      "source": [
        "import numpy as np\n",
        "from keras.utils import np_utils\n",
        "import pandas as pd\n",
        "import seaborn as sns\n",
        "import matplotlib.pyplot as plt\n",
        "import re\n",
        "import string\n",
        "import nltk\n",
        "from nltk.tokenize import word_tokenize\n",
        "from nltk.corpus import stopwords\n",
        "import collections\n",
        "from collections import Counter\n",
        "from keras.models import Sequential\n",
        "from sklearn.metrics import confusion_matrix\n",
        "from tensorflow.keras.utils import to_categorical\n",
        "from tensorflow.keras.layers import Activation, Dense, Flatten, Conv1D, MaxPooling1D, Dropout, LSTM\n",
        "from tensorflow.keras.callbacks import EarlyStopping\n",
        "from tensorflow.keras.optimizers import SGD\n",
        "from keras.models import Sequential\n",
        "from keras.layers import Conv1D, MaxPooling1D, GlobalMaxPooling1D, Dense, Dropout\n"
      ],
      "execution_count": 196,
      "outputs": []
    },
    {
      "cell_type": "markdown",
      "metadata": {
        "id": "Hr617tEpHd8R"
      },
      "source": [
        "## Data acquisition\n",
        "Seek a possible dataset, you can use any source, e.g.\n",
        "* http://www.gutenberg.org/\n",
        "* https://www.kaggle.com/datasets\n",
        "* https://paperswithcode.com/datasets\n",
        "* if you would like to learn Hungarian, than e.g. https://mek.oszk.hu/\n",
        "\n",
        "You can download the text by hand (e.g. by copy-pasting some parts into txt files) or with Python. "
      ]
    },
    {
      "cell_type": "code",
      "metadata": {
        "id": "NgkdQxHqHdZB",
        "outputId": "5e1ae1f6-4dd0-4f38-8e15-321879163a91",
        "colab": {
          "base_uri": "https://localhost:8080/"
        }
      },
      "source": [
        "with open('Pride and Prejudice.txt', 'r') as file:\n",
        "    austin_text = file.read()\n",
        "\n",
        "with open('The Great Gatsby.txt', 'r') as file:\n",
        "    fitzgerald_text = file.read()\n",
        "\n",
        "# Tokenize the texts\n",
        "nltk.download('punkt')\n",
        "austin_tokens = word_tokenize(austin_text)\n",
        "fitzgerald_tokens = word_tokenize(fitzgerald_text)\n",
        "\n",
        "# clean the text (Pride and Prejudice)\n",
        "nltk.download('stopwords')\n",
        "austin_clean_tokens = []\n",
        "for token in austin_tokens:\n",
        "    token = token.lower()  # convert to lowercase\n",
        "    token = re.sub(r'[^\\w\\s]', '', token)  # remove punctuation\n",
        "    if token not in stopwords.words('english'):  # remove stop words\n",
        "        austin_clean_tokens.append(token)\n",
        "\n",
        "# clean the text (The Great Gatsby)\n",
        "fitzgerald_clean_tokens = []\n",
        "for token in fitzgerald_tokens:\n",
        "    token = token.lower()  # convert to lowercase\n",
        "    token = re.sub(r'[^\\w\\s]', '', token)  # remove punctuation\n",
        "    if token not in stopwords.words('english'):  # remove stop words\n",
        "        fitzgerald_clean_tokens.append(token)\n",
        "\n",
        "\n",
        "# remove empty characters\n",
        "austin_clean_tokens = list(filter(None, austin_clean_tokens))\n",
        "fitzgerald_clean_tokens = list(filter(None, fitzgerald_clean_tokens))\n",
        "\n",
        "\n",
        "\n",
        "# Count the frequency of words\n",
        "austin_word_freq = collections.Counter(austin_clean_tokens)\n",
        "fitzgerald_word_freq = collections.Counter(fitzgerald_clean_tokens)"
      ],
      "execution_count": 197,
      "outputs": [
        {
          "output_type": "stream",
          "name": "stderr",
          "text": [
            "[nltk_data] Downloading package punkt to /root/nltk_data...\n",
            "[nltk_data]   Package punkt is already up-to-date!\n",
            "[nltk_data] Downloading package stopwords to /root/nltk_data...\n",
            "[nltk_data]   Package stopwords is already up-to-date!\n"
          ]
        }
      ]
    },
    {
      "cell_type": "markdown",
      "source": [
        "## Data analysis\n",
        "Count the number of characters from both authors and display them on a plot (e.g. Seaborn's countplot)."
      ],
      "metadata": {
        "id": "U9Pmq91t3SRD"
      }
    },
    {
      "cell_type": "code",
      "source": [
        "# Initialize an empty counter object to map character frequencies\n",
        "austin_char_freq = collections.Counter()\n",
        "fitzgerald_char_freq = collections.Counter()\n",
        "\n",
        "# Iterate over the words in the counter object (Jane Austin)\n",
        "for word, freq in austin_word_freq.items():\n",
        "    # Iterate over the characters in the word\n",
        "    for char in word:\n",
        "        # Add the character frequency to the new counter object\n",
        "        austin_char_freq[char] += freq\n",
        "\n",
        "# Iterate over the words in the counter object (Scott Fitzgerald)\n",
        "for word, freq in fitzgerald_word_freq.items():\n",
        "    # Iterate over the characters in the word\n",
        "    for char in word:\n",
        "        # Add the character frequency to the new counter object\n",
        "        fitzgerald_char_freq[char] += freq\n",
        "\n",
        "# Sort the frequency objects by their keys\n",
        "austin_sorted = collections.OrderedDict(sorted(austin_char_freq.items()))\n",
        "fitzgerald_sorted = collections.OrderedDict(sorted(fitzgerald_char_freq.items()))"
      ],
      "metadata": {
        "id": "uRqGdn4F3Spk"
      },
      "execution_count": 199,
      "outputs": []
    },
    {
      "cell_type": "markdown",
      "source": [
        "#### Plotting Character frequency for - Jane Austin: Pride and Prejudice"
      ],
      "metadata": {
        "id": "YHJcha5sIxhF"
      }
    },
    {
      "cell_type": "code",
      "source": [
        "# extract the items and their frequencies as separate lists\n",
        "items = list(austin_sorted.keys())\n",
        "freqs = list(austin_sorted.values())\n",
        "\n",
        "# create a bar plot\n",
        "fig, ax = plt.subplots(figsize=(20,10))\n",
        "ax.bar(items, freqs)\n",
        "\n",
        "# set plot title and labels\n",
        "ax.set_title('Character Frequencies for Pride and Prejudice')\n",
        "ax.set_xlabel('Characters')\n",
        "ax.set_ylabel('Frequency')\n",
        "\n",
        "# rotate x-axis labels for better readability\n",
        "plt.xticks(rotation=90)\n",
        "\n",
        "# show the plot\n",
        "plt.show()"
      ],
      "metadata": {
        "id": "XObTHjvFIwO5",
        "outputId": "ff595376-2693-40a3-bd75-3b7111843dc4",
        "colab": {
          "base_uri": "https://localhost:8080/",
          "height": 584
        }
      },
      "execution_count": 200,
      "outputs": [
        {
          "output_type": "display_data",
          "data": {
            "text/plain": [
              "<Figure size 2000x1000 with 1 Axes>"
            ],
            "image/png": "[encoded data removed]"
          },
          "metadata": {}
        }
      ]
    },
    {
      "cell_type": "markdown",
      "source": [
        "#### Plotting Character frequency for - Scott Fitzgerald: The Great Gatsby"
      ],
      "metadata": {
        "id": "Iziy_mXlJmyk"
      }
    },
    {
      "cell_type": "code",
      "source": [
        "# extract the items and their frequencies as separate lists\n",
        "items = list(fitzgerald_sorted.keys())\n",
        "freqs = list(fitzgerald_sorted.values())\n",
        "\n",
        "# create a bar plot\n",
        "fig, ax = plt.subplots(figsize=(20,10))\n",
        "ax.bar(items, freqs)\n",
        "\n",
        "# set plot title and labels\n",
        "ax.set_title('Character Frequencies for The Great Gatsby')\n",
        "ax.set_xlabel('Characters')\n",
        "ax.set_ylabel('Frequency')\n",
        "\n",
        "# rotate x-axis labels for better readability\n",
        "plt.xticks(rotation=90)\n",
        "\n",
        "# show the plot\n",
        "plt.show()"
      ],
      "metadata": {
        "id": "dmcycg4LJzYt",
        "outputId": "3f22464e-a1b9-4c57-b2e5-c2a6adcd3003",
        "colab": {
          "base_uri": "https://localhost:8080/",
          "height": 584
        }
      },
      "execution_count": 201,
      "outputs": [
        {
          "output_type": "display_data",
          "data": {
            "text/plain": [
              "<Figure size 2000x1000 with 1 Axes>"
            ],
            "image/png": "[encoded data removed]"
          },
          "metadata": {}
        }
      ]
    },
    {
      "cell_type": "markdown",
      "metadata": {
        "id": "cHyE_ndGIblJ"
      },
      "source": [
        "## Data loading, labeling and preprocessing\n",
        "Load the data and convert the characters into one-hot encodings. Then load the data into a 3D NumPy array, with a shape of\n",
        "\n",
        "* (batch, sequence_length, alphabet_length)\n",
        "\n",
        "where sequence_length=60, and alphabet_length equals to the number of unique characters in both datasets. The sequences should be cut out from the complete dataset by sliding window. You should add 0 and 1 labels to the sequences, according to the author. \n",
        "\n",
        "Later you may change sequence_length to achieve better results!"
      ]
    },
    {
      "cell_type": "code",
      "metadata": {
        "id": "arooXt0WIb6x"
      },
      "source": [
        "# Creating one-hot encodings\n",
        "\n",
        "# Combine the two lists of tokens into one list\n",
        "tokens = austin_clean_tokens + fitzgerald_clean_tokens\n",
        "\n",
        "# Create a Counter object to count the frequency of each character\n",
        "char_freq = Counter(\"\".join(tokens))\n",
        "\n",
        "# Get the unique characters and their number\n",
        "unique_chars = list(char_freq.keys())\n",
        "num_unique_chars = len(unique_chars)\n",
        "\n",
        "# Create a dictionary to map each character to its one-hot encoding\n",
        "char_to_onehot = {}\n",
        "for i, char in enumerate(unique_chars):\n",
        "    onehot = np.zeros((num_unique_chars,), dtype=int)\n",
        "    onehot[i] = 1\n",
        "    char_to_onehot[char] = onehot"
      ],
      "execution_count": 202,
      "outputs": []
    },
    {
      "cell_type": "code",
      "source": [
        "# Define the desired shape of the 3D NumPy array\n",
        "batch_size = 10\n",
        "window_size = 2\n",
        "sequence_length = 60\n",
        "alphabet_length = len(char_to_onehot)\n",
        "\n",
        "\n",
        "# PRIDE AND PREJUDICE\n",
        "# Create an empty 3D NumPy array with the desired shape \n",
        "austin_num_sequences = int((len(austin_clean_tokens) - sequence_length + 1)/window_size)\n",
        "austin_sequences = np.zeros((austin_num_sequences, sequence_length, alphabet_length))\n",
        "\n",
        "\n",
        "\n",
        "# Create one big string from our token list\n",
        "austin_concatenated = concatenated = ''.join(austin_clean_tokens)\n",
        "\n",
        "\n",
        "\n",
        "# Loop over the tokens and their one hot encodings\n",
        "for i in range(0, austin_num_sequences, window_size):\n",
        "    token_onehot = []\n",
        "    # Get the one hot encoding for each character in the sequence\n",
        "    for j in range(sequence_length):\n",
        "      curr_char = austin_concatenated[i+j]\n",
        "      token_onehot += [char_to_onehot[curr_char]]\n",
        "    index_a = int(i/window_size)\n",
        "    austin_sequences[index_a, :, :] = np.array(token_onehot) #add to sequence list\n",
        "\n",
        "\n",
        "# THE GREAT GATSBY\n",
        "# Create an empty 3D NumPy array with the desired shape \n",
        "fitzgerald_num_sequences = int((len(fitzgerald_clean_tokens) - sequence_length + 1)/window_size)\n",
        "fitzgerald_sequences = np.zeros((fitzgerald_num_sequences, sequence_length, alphabet_length))\n",
        "\n",
        "\n",
        "# Create one big string from our token list\n",
        "fitzgerald_concatenated = concatenated = ''.join(austin_clean_tokens)\n",
        "\n",
        "\n",
        "\n",
        "# Loop over the tokens and their one hot encodings\n",
        "for i in range(0, fitzgerald_num_sequences, window_size):\n",
        "    token_onehot = []\n",
        "    # Get the one hot encoding for each character in the sequence\n",
        "    for j in range(sequence_length):\n",
        "      curr_char = austin_concatenated[i+j]\n",
        "      token_onehot += [char_to_onehot[curr_char]]\n",
        "    index_f = int(i/window_size)\n",
        "    fitzgerald_sequences[index_f, :, :] = np.array(token_onehot) #add to sequence list"
      ],
      "metadata": {
        "id": "YL9ke_aKMces"
      },
      "execution_count": 203,
      "outputs": []
    },
    {
      "cell_type": "code",
      "source": [
        "print(austin_sequences.shape)\n",
        "print(fitzgerald_sequences.shape)"
      ],
      "metadata": {
        "id": "ahimS-C2haC5",
        "outputId": "510764ee-0c4b-406f-bbfe-0f7a0a915f9f",
        "colab": {
          "base_uri": "https://localhost:8080/"
        }
      },
      "execution_count": 204,
      "outputs": [
        {
          "output_type": "stream",
          "name": "stdout",
          "text": [
            "(27808, 60, 43)\n",
            "(11657, 60, 43)\n"
          ]
        }
      ]
    },
    {
      "cell_type": "code",
      "source": [
        "# Convert to Austin data to having around the same data points \n",
        "reduced_size = int(austin_sequences.shape[0]*0.4)\n",
        "austin_sequences = austin_sequences[:reduced_size] "
      ],
      "metadata": {
        "id": "Qg-3v6U7BwWX"
      },
      "execution_count": 205,
      "outputs": []
    },
    {
      "cell_type": "code",
      "source": [
        "print(austin_sequences.shape)\n",
        "print(fitzgerald_sequences.shape)"
      ],
      "metadata": {
        "id": "vXCL-XESCRkT",
        "outputId": "f5cd889b-67d3-4a4b-db14-1b5596c1744d",
        "colab": {
          "base_uri": "https://localhost:8080/"
        }
      },
      "execution_count": 206,
      "outputs": [
        {
          "output_type": "stream",
          "name": "stdout",
          "text": [
            "(11123, 60, 43)\n",
            "(11657, 60, 43)\n"
          ]
        }
      ]
    },
    {
      "cell_type": "code",
      "source": [
        "# Creating labels for our data \n",
        "austin_labels = np.zeros((austin_sequences.shape[0], 1))\n",
        "fitzgerald_labels = np.ones((fitzgerald_num_sequences, 1))"
      ],
      "metadata": {
        "id": "ImQf7SF0Pp2H"
      },
      "execution_count": 207,
      "outputs": []
    },
    {
      "cell_type": "markdown",
      "metadata": {
        "id": "lL1Mc8ibHnep"
      },
      "source": [
        "## Data splitting\n",
        "Split the data into train, validate and test sets. "
      ]
    },
    {
      "cell_type": "code",
      "metadata": {
        "id": "ELyG9XFUHrkB",
        "outputId": "ea112c8b-4ce2-472e-a171-b646d680d50f",
        "colab": {
          "base_uri": "https://localhost:8080/"
        }
      },
      "source": [
        "# Define the train, validation, and test split sizes as percentages\n",
        "train_size = 0.6\n",
        "val_size = 0.2\n",
        "test_size = 0.2\n",
        "\n",
        "# Splitting Pride and Prejudice sequences into train, validate and test sets. \n",
        "\n",
        "# Get the total number of examples in the list of sequences\n",
        "austin_total_examples = austin_sequences.shape[0]\n",
        "\n",
        "# Calculate the number of examples for each split\n",
        "austin_train_examples = int(train_size * austin_total_examples)\n",
        "austin_val_examples = int(val_size * austin_total_examples)\n",
        "austin_test_examples = austin_total_examples - austin_train_examples - austin_val_examples\n",
        "\n",
        "# Split the sequence into train, validation, and test sets\n",
        "austin_train_sequence = austin_sequences[:austin_train_examples]\n",
        "austin_train_labels = austin_labels[:austin_train_examples]\n",
        "austin_val_sequence = austin_sequences[austin_train_examples:austin_train_examples+austin_val_examples]\n",
        "austin_val_labels = austin_labels[austin_train_examples:austin_train_examples+austin_val_examples]\n",
        "austin_test_sequence = austin_sequences[austin_train_examples+austin_val_examples:]\n",
        "austin_test_labels = austin_labels[austin_train_examples+austin_val_examples:]\n",
        "\n",
        "# Print the shapes of the train, validation, and test sets\n",
        "print('PRIDE AND PREJUDICE')\n",
        "print('Train sequence shape:', austin_train_sequence.shape)\n",
        "print('Validation sequence shape:', austin_val_sequence.shape)\n",
        "print('Test sequence shape:', austin_test_sequence.shape)"
      ],
      "execution_count": 208,
      "outputs": [
        {
          "output_type": "stream",
          "name": "stdout",
          "text": [
            "PRIDE AND PREJUDICE\n",
            "Train sequence shape: (6673, 60, 43)\n",
            "Validation sequence shape: (2224, 60, 43)\n",
            "Test sequence shape: (2226, 60, 43)\n"
          ]
        }
      ]
    },
    {
      "cell_type": "code",
      "source": [
        "# Splitting The Great Gatsby sequences into train, validate and test sets. \n",
        "\n",
        "\n",
        "# Get the total number of examples in the list of sequences\n",
        "fitzgerald_total_examples = fitzgerald_sequences.shape[0]\n",
        "\n",
        "# Calculate the number of examples for each split\n",
        "fitzgerald_train_examples = int(train_size * fitzgerald_total_examples)\n",
        "fitzgerald_val_examples = int(val_size * fitzgerald_total_examples)\n",
        "fitzgerald_test_examples = fitzgerald_total_examples - fitzgerald_train_examples - fitzgerald_val_examples\n",
        "\n",
        "# Split the sequence into train, validation, and test sets\n",
        "fitzgerald_train_sequence = fitzgerald_sequences[:fitzgerald_train_examples]\n",
        "fitzgerald_train_labels = fitzgerald_labels[:fitzgerald_train_examples]\n",
        "fitzgerald_val_sequence = fitzgerald_sequences[fitzgerald_train_examples:fitzgerald_train_examples+fitzgerald_val_examples]\n",
        "fitzgerald_val_labels = fitzgerald_labels[fitzgerald_train_examples:fitzgerald_train_examples+fitzgerald_val_examples]\n",
        "fitzgerald_test_sequence = fitzgerald_sequences[fitzgerald_train_examples+fitzgerald_val_examples:]\n",
        "fitzgerald_test_labels = fitzgerald_labels[fitzgerald_train_examples+fitzgerald_val_examples:]\n",
        "\n",
        "# Print the shapes of the train, validation, and test sets\n",
        "print('THE GREAT GATSBY')\n",
        "print('Train sequence shape:', fitzgerald_train_sequence.shape)\n",
        "print('Validation sequence shape:', fitzgerald_val_sequence.shape)\n",
        "print('Test sequence shape:', fitzgerald_test_sequence.shape)"
      ],
      "metadata": {
        "id": "xDHhAW29OtMX",
        "outputId": "2b3c3a93-e382-4685-e412-508e30b72e6b",
        "colab": {
          "base_uri": "https://localhost:8080/"
        }
      },
      "execution_count": 209,
      "outputs": [
        {
          "output_type": "stream",
          "name": "stdout",
          "text": [
            "THE GREAT GATSBY\n",
            "Train sequence shape: (6994, 60, 43)\n",
            "Validation sequence shape: (2331, 60, 43)\n",
            "Test sequence shape: (2332, 60, 43)\n"
          ]
        }
      ]
    },
    {
      "cell_type": "code",
      "source": [
        "# Concatenating our train, valid and test sets from both authors \n",
        "\n",
        "combined_train_sequence = np.concatenate((austin_train_sequence, fitzgerald_train_sequence), axis=0)\n",
        "combined_train_labels = np.concatenate((austin_train_labels, fitzgerald_train_labels), axis=0)\n",
        "\n",
        "combined_val_sequence = np.concatenate((austin_val_sequence, fitzgerald_val_sequence), axis=0)\n",
        "combined_val_labels = np.concatenate((austin_val_labels, fitzgerald_val_labels), axis=0)\n",
        "\n",
        "combined_test_sequence = np.concatenate((austin_test_sequence, fitzgerald_test_sequence), axis=0)\n",
        "combined_test_labels = np.concatenate((austin_test_labels, fitzgerald_test_labels), axis=0)\n",
        "\n",
        "# Print the shapes of the combined train, validation, and test sets\n",
        "print('Combined Train sequence shape:', combined_train_sequence.shape)\n",
        "print('Combined Validation sequence shape:', combined_val_sequence.shape)\n",
        "print('Combined Test sequence shape:', combined_test_sequence.shape)"
      ],
      "metadata": {
        "id": "JRfrD-mJY0_i",
        "outputId": "01f3a7ea-8c8f-4c19-9488-c89e0784af79",
        "colab": {
          "base_uri": "https://localhost:8080/"
        }
      },
      "execution_count": 210,
      "outputs": [
        {
          "output_type": "stream",
          "name": "stdout",
          "text": [
            "Combined Train sequence shape: (13667, 60, 43)\n",
            "Combined Validation sequence shape: (4555, 60, 43)\n",
            "Combined Test sequence shape: (4558, 60, 43)\n"
          ]
        }
      ]
    },
    {
      "cell_type": "markdown",
      "metadata": {
        "id": "hA8U9tr7HrNQ"
      },
      "source": [
        "## Model definition\n",
        "Define a 1D CNN or an LSTM for the task. Compile the model with the correct loss function."
      ]
    },
    {
      "cell_type": "code",
      "source": [
        "model = Sequential()\n",
        "model.add(LSTM(128, input_shape=(sequence_length, alphabet_length)))\n",
        "model.add(Dropout(0.5))\n",
        "model.add(Dense(1, activation='sigmoid'))"
      ],
      "metadata": {
        "id": "BeJFceKaK192"
      },
      "execution_count": 211,
      "outputs": []
    },
    {
      "cell_type": "code",
      "source": [
        "model.compile(optimizer='adam', loss='binary_crossentropy', metrics=['accuracy'])\n",
        "print(model.summary())"
      ],
      "metadata": {
        "id": "kIhn9Z626UbZ",
        "outputId": "49dac63c-4c28-4f91-ec54-f2b556212a32",
        "colab": {
          "base_uri": "https://localhost:8080/"
        }
      },
      "execution_count": 212,
      "outputs": [
        {
          "output_type": "stream",
          "name": "stdout",
          "text": [
            "Model: \"sequential_29\"\n",
            "_________________________________________________________________\n",
            " Layer (type)                Output Shape              Param #   \n",
            "=================================================================\n",
            " lstm_29 (LSTM)              (None, 128)               88064     \n",
            "                                                                 \n",
            " dropout_44 (Dropout)        (None, 128)               0         \n",
            "                                                                 \n",
            " dense_32 (Dense)            (None, 1)                 129       \n",
            "                                                                 \n",
            "=================================================================\n",
            "Total params: 88,193\n",
            "Trainable params: 88,193\n",
            "Non-trainable params: 0\n",
            "_________________________________________________________________\n",
            "None\n"
          ]
        }
      ]
    },
    {
      "cell_type": "markdown",
      "metadata": {
        "id": "hWFb-nAMHuAI"
      },
      "source": [
        "## Model training\n",
        "Train the model and apply early stopping."
      ]
    },
    {
      "cell_type": "code",
      "metadata": {
        "id": "dvgKjqp3Hwkp",
        "outputId": "c59d0779-40fb-43e4-d42a-55c314d08c30",
        "colab": {
          "base_uri": "https://localhost:8080/"
        }
      },
      "source": [
        "es = EarlyStopping(patience=3, restore_best_weights=True)\n",
        "history = model.fit(combined_train_sequence, combined_train_labels, epochs=100, batch_size=32, validation_data=(combined_val_sequence, combined_val_labels), callbacks=[es])\n"
      ],
      "execution_count": 213,
      "outputs": [
        {
          "output_type": "stream",
          "name": "stdout",
          "text": [
            "Epoch 1/100\n",
            "428/428 [==============================] - 43s 95ms/step - loss: 0.6425 - accuracy: 0.5643 - val_loss: 0.3004 - val_accuracy: 1.0000\n",
            "Epoch 2/100\n",
            "428/428 [==============================] - 40s 94ms/step - loss: 0.6331 - accuracy: 0.5726 - val_loss: 0.3117 - val_accuracy: 0.9998\n",
            "Epoch 3/100\n",
            "428/428 [==============================] - 39s 90ms/step - loss: 0.6330 - accuracy: 0.5716 - val_loss: 0.3020 - val_accuracy: 1.0000\n",
            "Epoch 4/100\n",
            "428/428 [==============================] - 39s 90ms/step - loss: 0.6329 - accuracy: 0.5714 - val_loss: 0.3062 - val_accuracy: 1.0000\n"
          ]
        }
      ]
    },
    {
      "cell_type": "markdown",
      "metadata": {
        "id": "0omw2XzSHwOo"
      },
      "source": [
        "## Evaluation on test data\n",
        "Evaluate the model on the test data in terms of loss and accuracy."
      ]
    },
    {
      "cell_type": "code",
      "metadata": {
        "id": "4bF3dQA1Hv_R",
        "outputId": "13ccf592-b09b-46ab-f90f-c12d23fdeb5f",
        "colab": {
          "base_uri": "https://localhost:8080/"
        }
      },
      "source": [
        "test_loss, test_acc = model.evaluate(combined_test_sequence, combined_test_labels)"
      ],
      "execution_count": 214,
      "outputs": [
        {
          "output_type": "stream",
          "name": "stdout",
          "text": [
            "143/143 [==============================] - 5s 33ms/step - loss: 0.2997 - accuracy: 1.0000\n"
          ]
        }
      ]
    },
    {
      "cell_type": "code",
      "source": [
        "print(\"Test Loss: \" + str(test_loss))\n",
        "print(\"Test Accuracy: \" + str(test_acc))"
      ],
      "metadata": {
        "id": "eUeNJ1TD1eSO",
        "outputId": "0338a55e-9621-45a1-b1f2-9c48c0233eb0",
        "colab": {
          "base_uri": "https://localhost:8080/"
        }
      },
      "execution_count": 215,
      "outputs": [
        {
          "output_type": "stream",
          "name": "stdout",
          "text": [
            "Test Loss: 0.29968810081481934\n",
            "Test Accuracy: 1.0\n"
          ]
        }
      ]
    },
    {
      "cell_type": "markdown",
      "metadata": {
        "id": "4Y73Q-h5Hz1r"
      },
      "source": [
        "## Confusion matrix\n",
        "Calculate and display the confusion matrix."
      ]
    },
    {
      "cell_type": "code",
      "metadata": {
        "id": "cW8zZi1uJm2B",
        "outputId": "bb1335ce-e4ee-4385-cf20-0c2ba88fa0dd",
        "colab": {
          "base_uri": "https://localhost:8080/",
          "height": 471
        }
      },
      "source": [
        "# Calculate and display the confusion matrix\n",
        "test_predictions = model.predict(combined_test_sequence).round()\n",
        "cm = confusion_matrix(combined_test_labels, test_predictions)\n",
        "sns.heatmap(cm, annot=True, fmt='d', vmax=100)"
      ],
      "execution_count": 217,
      "outputs": [
        {
          "output_type": "stream",
          "name": "stdout",
          "text": [
            "143/143 [==============================] - 8s 57ms/step\n"
          ]
        },
        {
          "output_type": "execute_result",
          "data": {
            "text/plain": [
              "<Axes: >"
            ]
          },
          "metadata": {},
          "execution_count": 217
        },
        {
          "output_type": "display_data",
          "data": {
            "text/plain": [
              "<Figure size 640x480 with 2 Axes>"
            ],
            "image/png": "[encoded data removed]"
          },
          "metadata": {}
        }
      ]
    },
    {
      "cell_type": "code",
      "source": [
        "# Finally it works!!"
      ],
      "metadata": {
        "id": "UC5xwAMaNPR9"
      },
      "execution_count": 218,
      "outputs": []
    }
  ]
}